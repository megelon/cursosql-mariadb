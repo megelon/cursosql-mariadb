{
 "cells": [
  {
   "cell_type": "code",
   "execution_count": 1,
   "metadata": {
    "jupyter": {
     "source_hidden": true
    }
   },
   "outputs": [],
   "source": [
    "from IPython.display import Image"
   ]
  },
  {
   "cell_type": "markdown",
   "metadata": {},
   "source": [
    "# Modulo 4: Fase 1 CRISP-DM - Entendimiento del negocio."
   ]
  },
  {
   "cell_type": "code",
   "execution_count": null,
   "metadata": {
    "collapsed": true,
    "jupyter": {
     "outputs_hidden": true,
     "source_hidden": true
    }
   },
   "outputs": [],
   "source": [
    "Image(\"../Images/crisp_dm_1.png\")"
   ]
  },
  {
   "cell_type": "markdown",
   "metadata": {},
   "source": [
    "# Clase 23. La compañía dueña de los datos"
   ]
  },
  {
   "cell_type": "markdown",
   "metadata": {},
   "source": [
    "## Background\n",
    "Para contextualizarnos un poco, imagina que luego de hacer este curso te contactaron de una compañía llamada Meetup.com dónde valoran tus capacidades de SQL, te han ofrecido el trabajo de tus sueños, una excelente compensación salarial, un trabajo dinámico, motivante y tienes que decidir si lo tomas o no.\n",
    "\n",
    "Lo primero que tienes que hacer es saber para quien vas a trabajar, así que vamos a averiguarlo. Lo primero que haremos es buscar en google. \n",
    "\n",
    "Nos damos cuenta que hay muchos resultados para meetup, promocionando eventos de diferentes tipos, ..., entremos a la página principal... https://www.meetup.com/es/\n",
    "\n",
    "Nos interesa concer un poco más del negocio, así que vamos a buscar en wikipedia https://en.wikipedia.org/wiki/Meetup, ... vemos wiki, bla, bla, bla ... \n",
    "\n",
    "También vamos a buscar noticias, encontramos la siguiente: https://observer.com/2011/01/the-long-and-curious-history-of-meetupcom/.\n",
    "\n",
    "Luego de la investigación parece una empresa interesante, vamos a aceptar el reto!"
   ]
  },
  {
   "cell_type": "markdown",
   "metadata": {},
   "source": [
    "# Clase 24. Determinar los objetivos y criterios de éxito del negocio.\n",
    "\n",
    "Ahora trabajamos para Meetup.com y nuestra primera tarea consiste en hacer un tablero de control, los directivos nos pidieron colgarlo en la mejor herramienta de visualización disponible, el problema es que ellos no tienen ni idea de herramientas de visualisación y su solicitud la hicieron bajo el paradigma que la solución es la herramienta. Pero nostros sabemos que eso no es así, la solución es definir bien los indicadores, tener un plan para calcularlos, diseñar vistas que permitan sacar conclusiones de forma rápida y que además permitan activar estrategias para el negocio. \n",
    "\n",
    "Lo primero que debemos aclarar es para qué es el tablero, la fácil es preguntarle a los directivos, pero ellos no tienen tiempo y te va a tocar ser creativo así que pensemos.\n",
    "\n",
    "El objetivo de todas las compañías es maximizar utilidad y crear valor. Algunas lo miden en dinero, ¿cuáles son las ganancias de la compañía luego de restar todos los gastos?, otras lo miden en impacto, ¿cuál es el numero de usarios que atiende durante un periodo de tiempo? y así. \n",
    "\n",
    "La complejidad de nuestro ejercicio es que Meetup, es una startup, el primer afán de cualquier startup es tener un producto, el segundo afán es vender ese producto, el tercer afán es levantar capital para vender ese producto a más gente. Luego viene uno clave, no quebrarse en el intento.\n",
    "\n",
    "Enfoquemonos en los primeros, el producto, vender y tener capital. \n",
    "\n",
    "Una de las mejores estrategias para arrancar un startup es aferrarse a una fecha de lanzamiento, trabajar con un mínimo viable y mejorar cada día ese producto. Los directivos de Meetup seguramente querrán escuchar lo que dicen los datos para mejorar sus productos. A los datos todo el mundo los escucha.\n",
    "- Que tal si ofrecemos un producto para los usuarios de WeWork.\n",
    "\n",
    "Alguna vez han escuchado decir que las ventas lo son todo? Pues yo escuché que las ventas no lo son todo, de hecho escuché que son lo único! Da igual si crees tener el mejor producto, inclusive da igual si de hecho lo tienes, de nada sirve si no lo sabes vender. \n",
    "- El departamento de ventas tiene que tener una estrategia para targetear usuarios, por ciudad, area, dirección, edad, antiguedad, etc.\n",
    "\n",
    "Para tener capital se debe levantar plata de inversionistas. \n",
    "- Tiene que hablar de números interesantes, de crecimiento, ¿cuántos usuarios nuevos tenía el mes pasado, cuántos usuarios nuevos tengo este mes?. \n",
    "- De retención, cuántos usuarios que estaban conmigo el mes pasado se mantienen conmigo este mes.\n",
    "\n",
    "Para no quebrarse hay que buscar fuentes de ingresos. En este caso no vamos a hablar de plata, pero sí vamos a evaluar la oportunidad analizando los patrones de comportamiento de esas posibles fuentes de ingresos.\n",
    "- - Entrando en contexto, veámos la situación de Meetup, incialmente ganaba dinero cobrando un cargo a los organizadores por crear un grupo y realizar un evento. Han hecho experimentos en dónde cobran un cargo a los asistentes de los eventos. Ahora que fue adquirido por WeWork seguramente su objetivo, será maximizar el número de eventos que tienen lugar en las instalaciones de WeWork.\n",
    "- - Bajo este contexto nos interesará diseñar estrategias que permitan a la compañía aumentar el número de usuarios, por ejemplo, podemos construir un sistema de recomendación que motive a personas con cierto perfil a participar en un grupo específico por primera vez, atender a un evento por primera vez o aumentar su participación en el grupo al que ya pertenecen, inclusive a animarse a crear un grupo y promocionar eventos. Estas estrategias se vuelven interesantes cuándo las guiamos con datos.\n",
    "\n",
    "¡Nos vemos en la siguiente clase!"
   ]
  },
  {
   "cell_type": "markdown",
   "metadata": {},
   "source": [
    "# Clase 25. Diseño de los kpis v1.\n",
    "\n",
    "¡Hola! Empecemos con nuestro diseño de los kpi's, lo vamos a hacer con papel y lápiz para capturar la escencia del ejercicio. \n",
    "\n",
    "Lo primero era definir un contexto y lo hicimos en la clase pasada. Sin embargo recapitulemos. Diseñaremos métricas para una empresa de sillicon valley, un ambiente de emprendedores e inversionistas.\n",
    "Así que vamos a hablar de métricas alineadas con las necesidades del emprendedor. \n",
    "En la case pasada vimos cuatro afanes, producto, ventas, capital y no quebrarse.\n",
    "Nos vamos a enfocar en producto y ventas.\n",
    "\n",
    "Para plantear preguntas relevantes nos vamos a poner en los zapatos de un inversionista y que está reunido con el CEO de Meetup y quiere tomar la decisión de invertir o no en la compañía.\n",
    "(es importante saber que estos datos son datos con fines académicos, no reflejan la realidad de la compañía)\n",
    "\n",
    "### Primero el producto:\n",
    "Acá caben los tableros que ya están sugerdios en kaggle, ...\n",
    "- Topicos más populares... done\n",
    "- Tendencias entre tópicos...\n",
    "- Popularidad de grupos...\n",
    "- Lugares de reunión...\n",
    "- Tópicos por ciudad: Chicago, socializing.\n",
    "- Red de intereses. (Matriz de frecuencias por topico)\n",
    "\n",
    "### Segundo las ventas:\n",
    "\n",
    "- ¿Cuál es el tamaño de la compañía? (done)\n",
    "- - Usuarios totales y usuarios activos. (abajo el query)\n",
    "- ¿Cuánto crece la compañía? ¿Al año y al mes? done \n",
    "- - es decir ¿cuántos usuarios activos tenía el mes pasado, cuántos usuarios nuevos tengo este mes?. (done)  (abajo el query)\n",
    "- - ¿cuántos usuarios activos tenía el mes pasado, cuántos usuarios activos tengo este mes?. \n",
    "- - para cada punto calcular el delta. \n",
    "- ¿Cómo se comporta este crecimiento? \n",
    "- - Lo primero es entender nivel país, estado, ciudad. (son filtros a tablas de crecimiento, o la opcion de tener listas desplegables) \n",
    "- - Surgiran preguntas como ¿Hay eventos en WeWork? (like, contiene \"WeWork\") \n",
    "- - - ¿ Cuántos eventos, usuarios, grupos, se celebran en WeWork?\n",
    "- - - ¿ Como es la distribucion de estos eventos nivel país, estado, ciudad.\n",
    "\n",
    "### Te queda de tarea, hacer capital y rentabilidad.\n",
    "\n",
    "### Tercero la inversión:\n",
    "- - frecuencia \n",
    "\n",
    "### Cuarto la rentabilidad:\n",
    "- Cuánto gana la compañía?\n",
    "- - para esto necesitamos entender cuáles son las fuentes de ingreso de la compañía. \n",
    "- - - incialmente ganaba dinero cobrando un cargo a los organizadores por crear un grupo y realizar un evento. \n",
    "- - - - necesitamos entonces grupos creados, eventos realizados.\n",
    "- - - Han hecho experimentos en dónde cobran un cargo a los asistentes de los eventos. \n",
    "- - - - necesitamos entonces asistentes por evento.\n",
    "- PODRÍAMOS DISEÑAR UNA ESTRATEGIA DE DIFERENCIACIÓN DE PRECIOS para aumentar las ganancias?"
   ]
  },
  {
   "cell_type": "markdown",
   "metadata": {},
   "source": [
    "# Clase 26. Inventario de datos para los kpis.\n",
    "\n",
    "Hola! Ya definimos los kpis. ¿somos capaces de construirlos ya mismo o debemos hacer un plan para conseguir los datos y poder calcularlos en el futuro? \n",
    "\n",
    "Revisemos uno por uno los indicadores y hagamos una lista de las variables que necesitamos en cada caso.\n",
    "- lista en sheets. \"inventario de kpis\"\n",
    "\n",
    "Ahora evaluemos si tenemos los tenemos o no. Consultemos el EER diagram que está en kaggle https://www.kaggle.com/sirpunch/meetups-data-from-meetupcom y\n",
    "- completemos la lista en sheets. \n"
   ]
  },
  {
   "cell_type": "markdown",
   "metadata": {},
   "source": [
    "# Startup.\n",
    "\n",
    "1. Product market fit. \n",
    "- Lanzar el producto sin saber muy bien lo que se quería. \n",
    "- Escuchar al usuario y ajustar el producto hasta llegar a un producto que verdaderamente crea Fans y un WOM increible.\n",
    "\n",
    "2. Expansion y crecimiento acelerado.\n",
    "- Listo para expandirse.\n",
    "\n",
    "3. Crecimiento rentable y sostenible.\n",
    "\n",
    "4. Home base. \n",
    "Consolidación del liderazgo - IPO\n"
   ]
  },
  {
   "cell_type": "code",
   "execution_count": null,
   "metadata": {},
   "outputs": [],
   "source": []
  }
 ],
 "metadata": {
  "kernelspec": {
   "display_name": "Python 3",
   "language": "python",
   "name": "python3"
  },
  "language_info": {
   "codemirror_mode": {
    "name": "ipython",
    "version": 3
   },
   "file_extension": ".py",
   "mimetype": "text/x-python",
   "name": "python",
   "nbconvert_exporter": "python",
   "pygments_lexer": "ipython3",
   "version": "3.7.3"
  }
 },
 "nbformat": 4,
 "nbformat_minor": 4
}
