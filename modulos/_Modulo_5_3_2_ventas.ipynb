{
 "cells": [
  {
   "cell_type": "code",
   "execution_count": 2,
   "metadata": {},
   "outputs": [],
   "source": [
    "from IPython.display import Image"
   ]
  },
  {
   "cell_type": "markdown",
   "metadata": {},
   "source": [
    "# Modulo 5: CRISP-DM - Modelaje"
   ]
  },
  {
   "cell_type": "code",
   "execution_count": null,
   "metadata": {
    "jupyter": {
     "source_hidden": true
    }
   },
   "outputs": [],
   "source": [
    "Image(\"../Images/crisp_dm_1.png\")"
   ]
  },
  {
   "cell_type": "code",
   "execution_count": 1,
   "metadata": {},
   "outputs": [],
   "source": [
    "import pandas as pd\n",
    "import MySQLdb as mdb\n",
    "con=mdb.connect(user='root',database='meetup')\n",
    "cursor = con.cursor()"
   ]
  },
  {
   "cell_type": "code",
   "execution_count": null,
   "metadata": {},
   "outputs": [],
   "source": [
    "pd.set_option('display.max_rows', 500)\n",
    "pd.set_option('display.max_columns', 500)\n",
    "#pd.set_option('display.width', 1000)"
   ]
  },
  {
   "cell_type": "markdown",
   "metadata": {},
   "source": [
    "# Clase 36\n",
    "### Segundo las ventas:\n",
    "\n",
    "- ¿Cuál es el tamaño de la compañía? (done)\n",
    "- - Usuarios totales y usuarios activos. (abajo el query)\n",
    "- ¿Cuánto crece la compañía? ¿Al año y al mes? done \n",
    "- - es decir ¿cuántos usuarios activos tenía el mes pasado, cuántos usuarios nuevos tengo este mes?. (done)  (abajo el query)\n",
    "- - ¿cuántos usuarios activos tenía el mes pasado, cuántos usuarios activos tengo este mes?. \n",
    "- - para cada punto calcular el delta. \n",
    "- ¿Cómo se comporta este crecimiento? \n",
    "- - Lo primero es entender nivel país, estado, ciudad. (son filtros a tablas de crecimiento, o la opcion de tener listas desplegables) \n",
    "- - Surgiran preguntas como ¿Hay eventos en WeWork? (like, contiene \"WeWork\") \n",
    "- - - ¿ Cuántos eventos, usuarios, grupos, se celebran en WeWork?\n",
    "- - - ¿ Como es la distribucion de estos eventos nivel país, estado, ciudad.\n",
    "\n",
    "\n",
    "\n",
    "Antes de empezar vamos a hacer un ejercicio...\n",
    "\n",
    "Vamos a intentar hacer el análisis con Excel... calculemos el número de usuarios mes a mes con la tabla members.\n",
    "...\n",
    "...\n",
    "No abrió completa, sólo por eso debemos utilizar otra herramienta. En este caso vamos a usar un motor de base de datos, podríamos usar python, tableau o algúna otra opción.\n",
    "\n",
    "Primero vamos a conocer nuestra base.\n"
   ]
  },
  {
   "cell_type": "code",
   "execution_count": null,
   "metadata": {},
   "outputs": [],
   "source": [
    "pd.read_sql('show columns from meetup.members;', con)"
   ]
  },
  {
   "cell_type": "code",
   "execution_count": null,
   "metadata": {},
   "outputs": [],
   "source": [
    "pd.read_sql('select * from meetup.members m limit 5;', con)"
   ]
  },
  {
   "cell_type": "markdown",
   "metadata": {},
   "source": [
    "Vemos que tenemos member_id duplicados, vamos a crear una tabla en dónde conservermos un sólo id de cliente y para la fecha de registro conservemos la más antigua."
   ]
  },
  {
   "cell_type": "code",
   "execution_count": null,
   "metadata": {},
   "outputs": [],
   "source": [
    "pd.read_sql('select member_id, min(joined) as joined from meetup.members m group by member_id;', con)"
   ]
  },
  {
   "cell_type": "code",
   "execution_count": 79,
   "metadata": {},
   "outputs": [
    {
     "data": {
      "text/plain": [
       "1087923"
      ]
     },
     "execution_count": 79,
     "metadata": {},
     "output_type": "execute_result"
    }
   ],
   "source": [
    "cursor.execute(\"\"\"\n",
    "create table meetup.xxx_temp_members_1 as\n",
    "select member_id, min(joined) as joined from meetup.members m group by member_id;\n",
    "\"\"\")"
   ]
  },
  {
   "cell_type": "code",
   "execution_count": 77,
   "metadata": {},
   "outputs": [
    {
     "data": {
      "text/html": [
       "<div>\n",
       "<style scoped>\n",
       "    .dataframe tbody tr th:only-of-type {\n",
       "        vertical-align: middle;\n",
       "    }\n",
       "\n",
       "    .dataframe tbody tr th {\n",
       "        vertical-align: top;\n",
       "    }\n",
       "\n",
       "    .dataframe thead th {\n",
       "        text-align: right;\n",
       "    }\n",
       "</style>\n",
       "<table border=\"1\" class=\"dataframe\">\n",
       "  <thead>\n",
       "    <tr style=\"text-align: right;\">\n",
       "      <th></th>\n",
       "      <th>member_id</th>\n",
       "      <th>joined</th>\n",
       "    </tr>\n",
       "  </thead>\n",
       "  <tbody>\n",
       "    <tr>\n",
       "      <th>0</th>\n",
       "      <td>3</td>\n",
       "      <td>2007-05-01 22:04:37</td>\n",
       "    </tr>\n",
       "    <tr>\n",
       "      <th>1</th>\n",
       "      <td>6</td>\n",
       "      <td>2006-03-08 16:33:41</td>\n",
       "    </tr>\n",
       "    <tr>\n",
       "      <th>2</th>\n",
       "      <td>36</td>\n",
       "      <td>2010-07-27 18:44:24</td>\n",
       "    </tr>\n",
       "    <tr>\n",
       "      <th>3</th>\n",
       "      <td>65</td>\n",
       "      <td>2012-03-20 05:29:10</td>\n",
       "    </tr>\n",
       "    <tr>\n",
       "      <th>4</th>\n",
       "      <td>82</td>\n",
       "      <td>2012-08-09 00:36:23</td>\n",
       "    </tr>\n",
       "    <tr>\n",
       "      <th>...</th>\n",
       "      <td>...</td>\n",
       "      <td>...</td>\n",
       "    </tr>\n",
       "    <tr>\n",
       "      <th>1087918</th>\n",
       "      <td>240845614</td>\n",
       "      <td>2017-11-09 16:39:43</td>\n",
       "    </tr>\n",
       "    <tr>\n",
       "      <th>1087919</th>\n",
       "      <td>240845866</td>\n",
       "      <td>2017-11-09 16:40:42</td>\n",
       "    </tr>\n",
       "    <tr>\n",
       "      <th>1087920</th>\n",
       "      <td>240846998</td>\n",
       "      <td>2017-11-09 16:51:53</td>\n",
       "    </tr>\n",
       "    <tr>\n",
       "      <th>1087921</th>\n",
       "      <td>240849026</td>\n",
       "      <td>2017-11-09 17:24:14</td>\n",
       "    </tr>\n",
       "    <tr>\n",
       "      <th>1087922</th>\n",
       "      <td>240852081</td>\n",
       "      <td>2017-11-09 18:18:05</td>\n",
       "    </tr>\n",
       "  </tbody>\n",
       "</table>\n",
       "<p>1087923 rows × 2 columns</p>\n",
       "</div>"
      ],
      "text/plain": [
       "         member_id              joined\n",
       "0                3 2007-05-01 22:04:37\n",
       "1                6 2006-03-08 16:33:41\n",
       "2               36 2010-07-27 18:44:24\n",
       "3               65 2012-03-20 05:29:10\n",
       "4               82 2012-08-09 00:36:23\n",
       "...            ...                 ...\n",
       "1087918  240845614 2017-11-09 16:39:43\n",
       "1087919  240845866 2017-11-09 16:40:42\n",
       "1087920  240846998 2017-11-09 16:51:53\n",
       "1087921  240849026 2017-11-09 17:24:14\n",
       "1087922  240852081 2017-11-09 18:18:05\n",
       "\n",
       "[1087923 rows x 2 columns]"
      ]
     },
     "execution_count": 77,
     "metadata": {},
     "output_type": "execute_result"
    }
   ],
   "source": [
    "pd.read_sql('select * from meetup.xxx_temp_members_1;', con)"
   ]
  },
  {
   "cell_type": "markdown",
   "metadata": {},
   "source": [
    "Ahora vamos a extraer el año y el mes de la fecha de registro (Podemos crear tablas auxiliares para que no tarde tanto la corrida de nuestros scripts)"
   ]
  },
  {
   "cell_type": "code",
   "execution_count": null,
   "metadata": {},
   "outputs": [],
   "source": [
    "pd.read_sql('''select member_id, joined, year(joined) as anio, month(joined) as mes\n",
    "from (select member_id, min(joined) as joined from meetup.members m group by member_id) x\n",
    "''', con)"
   ]
  },
  {
   "cell_type": "code",
   "execution_count": 81,
   "metadata": {},
   "outputs": [
    {
     "data": {
      "text/plain": [
       "1087923"
      ]
     },
     "execution_count": 81,
     "metadata": {},
     "output_type": "execute_result"
    }
   ],
   "source": [
    "cursor.execute('''\n",
    "create table meetup.xxx_temp_members_2 as\n",
    "select member_id, joined, year(joined) as anio, month(joined) as mes\n",
    "from meetup.xxx_temp_members_1\n",
    "''')"
   ]
  },
  {
   "cell_type": "markdown",
   "metadata": {},
   "source": [
    "Vamos a calcular el número de usuario por año"
   ]
  },
  {
   "cell_type": "code",
   "execution_count": null,
   "metadata": {},
   "outputs": [],
   "source": [
    "pd.read_sql('''\n",
    "select anio, count(member_id) freq from\n",
    "(select member_id, joined, year(joined) as anio, month(joined) as mes\n",
    "from (select member_id, min(joined) as joined from meetup.members m group by member_id) x) y\n",
    "group by 1\n",
    "''', con)"
   ]
  },
  {
   "cell_type": "code",
   "execution_count": 82,
   "metadata": {},
   "outputs": [
    {
     "data": {
      "text/plain": [
       "16"
      ]
     },
     "execution_count": 82,
     "metadata": {},
     "output_type": "execute_result"
    }
   ],
   "source": [
    "cursor.execute('''\n",
    "create table meetup.xxx_temp_members_3 as\n",
    "select anio, count(member_id) freq from\n",
    "meetup.xxx_temp_members_2\n",
    "group by 1\n",
    "''')"
   ]
  },
  {
   "cell_type": "markdown",
   "metadata": {},
   "source": [
    "Ahora queremos calcular el crecimiento por año, antes, para ello necesitamos \"freq\" rezagada en t-1 y \"freq\" en t, para luego hacer t/t-1 esto lo hacemos con la funcion LAG\n",
    "para este caso la vamos a mover hacia adelante"
   ]
  },
  {
   "cell_type": "code",
   "execution_count": null,
   "metadata": {},
   "outputs": [],
   "source": [
    "pd.read_sql('''\n",
    "select \n",
    "*, \n",
    "LAG(freq,1) OVER (ORDER BY anio) AS freqt1\n",
    "from (\n",
    "select anio, count(member_id) freq from\n",
    "(select member_id, joined, year(joined) as anio, month(joined) as mes\n",
    "from (select member_id, min(joined) as joined from meetup.members m group by member_id) x) y\n",
    "group by 1\n",
    ") z\n",
    "''', con)"
   ]
  },
  {
   "cell_type": "code",
   "execution_count": 83,
   "metadata": {},
   "outputs": [
    {
     "data": {
      "text/plain": [
       "16"
      ]
     },
     "execution_count": 83,
     "metadata": {},
     "output_type": "execute_result"
    }
   ],
   "source": [
    "cursor.execute('''\n",
    "create table meetup.xxx_temp_members_4 as\n",
    "select \n",
    "*, \n",
    "LAG(freq,1) OVER (ORDER BY anio) AS freqt1\n",
    "from meetup.xxx_temp_members_3\n",
    "''')"
   ]
  },
  {
   "cell_type": "markdown",
   "metadata": {},
   "source": [
    "Una vez rezagada podemos calcular el crecimiento año a año"
   ]
  },
  {
   "cell_type": "code",
   "execution_count": null,
   "metadata": {},
   "outputs": [],
   "source": [
    "pd.read_sql('''\n",
    "select \n",
    "anio, freq, freqt1, (freq/freqt1-1) as growth_yoy\n",
    "from (\n",
    "select \n",
    "*, \n",
    "LAG(freq,1) OVER (ORDER BY anio) AS freqt1\n",
    "from (\n",
    "select anio, count(member_id) freq from\n",
    "(select member_id, joined, year(joined) as anio, month(joined) as mes\n",
    "from (select member_id, min(joined) as joined from meetup.members m group by member_id) x) y\n",
    "group by 1\n",
    ") z\n",
    ") a\n",
    "''', con)"
   ]
  },
  {
   "cell_type": "code",
   "execution_count": 85,
   "metadata": {},
   "outputs": [
    {
     "data": {
      "text/plain": [
       "16"
      ]
     },
     "execution_count": 85,
     "metadata": {},
     "output_type": "execute_result"
    }
   ],
   "source": [
    "cursor.execute('''\n",
    "create table meetup.xxx_temp_members_5 as\n",
    "select \n",
    "anio, freq, freqt1, (freq/freqt1-1) as growth_yoy\n",
    "from meetup.xxx_temp_members_4\n",
    "''')"
   ]
  },
  {
   "cell_type": "markdown",
   "metadata": {},
   "source": [
    "Perfecto tenemos nuestro número, luego vamos a usar estas tablas para hacer gráficos en nuestro tablero. \n",
    "Así que vamos a guardar el número en una tabla"
   ]
  },
  {
   "cell_type": "code",
   "execution_count": null,
   "metadata": {},
   "outputs": [],
   "source": [
    "cursor.execute('''drop table zzz_growth_yoy''')"
   ]
  },
  {
   "cell_type": "code",
   "execution_count": null,
   "metadata": {},
   "outputs": [],
   "source": [
    "cursor.execute('''\n",
    "create table zzz_growth_yoy as\n",
    "select \n",
    "anio, freq, freqt1, (freq/freqt1-1) as growth_yoy\n",
    "from (\n",
    "select \n",
    "*, \n",
    "LAG(freq,1) OVER (ORDER BY anio) AS freqt1\n",
    "from (\n",
    "select anio, count(member_id) freq from\n",
    "(select member_id, joined, year(joined) as anio, month(joined) as mes\n",
    "from (select member_id, min(joined) as joined from meetup.members m group by member_id) x) y\n",
    "group by 1\n",
    ") z \n",
    ") a \n",
    "''')"
   ]
  },
  {
   "cell_type": "markdown",
   "metadata": {},
   "source": [
    "# GRAFICAS \n",
    "1. zzz_growth_yoy\n",
    "2. zzz_growth_mom"
   ]
  },
  {
   "cell_type": "code",
   "execution_count": 87,
   "metadata": {},
   "outputs": [
    {
     "data": {
      "text/html": [
       "<div>\n",
       "<style scoped>\n",
       "    .dataframe tbody tr th:only-of-type {\n",
       "        vertical-align: middle;\n",
       "    }\n",
       "\n",
       "    .dataframe tbody tr th {\n",
       "        vertical-align: top;\n",
       "    }\n",
       "\n",
       "    .dataframe thead th {\n",
       "        text-align: right;\n",
       "    }\n",
       "</style>\n",
       "<table border=\"1\" class=\"dataframe\">\n",
       "  <thead>\n",
       "    <tr style=\"text-align: right;\">\n",
       "      <th></th>\n",
       "      <th>anio</th>\n",
       "      <th>freq</th>\n",
       "      <th>freqt1</th>\n",
       "      <th>growth_yoy</th>\n",
       "    </tr>\n",
       "  </thead>\n",
       "  <tbody>\n",
       "    <tr>\n",
       "      <th>0</th>\n",
       "      <td>2002</td>\n",
       "      <td>65</td>\n",
       "      <td>NaN</td>\n",
       "      <td>NaN</td>\n",
       "    </tr>\n",
       "    <tr>\n",
       "      <th>1</th>\n",
       "      <td>2003</td>\n",
       "      <td>2043</td>\n",
       "      <td>65.0</td>\n",
       "      <td>30.4308</td>\n",
       "    </tr>\n",
       "    <tr>\n",
       "      <th>2</th>\n",
       "      <td>2004</td>\n",
       "      <td>1544</td>\n",
       "      <td>2043.0</td>\n",
       "      <td>-0.2442</td>\n",
       "    </tr>\n",
       "    <tr>\n",
       "      <th>3</th>\n",
       "      <td>2005</td>\n",
       "      <td>1753</td>\n",
       "      <td>1544.0</td>\n",
       "      <td>0.1354</td>\n",
       "    </tr>\n",
       "    <tr>\n",
       "      <th>4</th>\n",
       "      <td>2006</td>\n",
       "      <td>6461</td>\n",
       "      <td>1753.0</td>\n",
       "      <td>2.6857</td>\n",
       "    </tr>\n",
       "    <tr>\n",
       "      <th>5</th>\n",
       "      <td>2007</td>\n",
       "      <td>13683</td>\n",
       "      <td>6461.0</td>\n",
       "      <td>1.1178</td>\n",
       "    </tr>\n",
       "    <tr>\n",
       "      <th>6</th>\n",
       "      <td>2008</td>\n",
       "      <td>20832</td>\n",
       "      <td>13683.0</td>\n",
       "      <td>0.5225</td>\n",
       "    </tr>\n",
       "    <tr>\n",
       "      <th>7</th>\n",
       "      <td>2009</td>\n",
       "      <td>34254</td>\n",
       "      <td>20832.0</td>\n",
       "      <td>0.6443</td>\n",
       "    </tr>\n",
       "    <tr>\n",
       "      <th>8</th>\n",
       "      <td>2010</td>\n",
       "      <td>41026</td>\n",
       "      <td>34254.0</td>\n",
       "      <td>0.1977</td>\n",
       "    </tr>\n",
       "    <tr>\n",
       "      <th>9</th>\n",
       "      <td>2011</td>\n",
       "      <td>57331</td>\n",
       "      <td>41026.0</td>\n",
       "      <td>0.3974</td>\n",
       "    </tr>\n",
       "    <tr>\n",
       "      <th>10</th>\n",
       "      <td>2012</td>\n",
       "      <td>89753</td>\n",
       "      <td>57331.0</td>\n",
       "      <td>0.5655</td>\n",
       "    </tr>\n",
       "    <tr>\n",
       "      <th>11</th>\n",
       "      <td>2013</td>\n",
       "      <td>119470</td>\n",
       "      <td>89753.0</td>\n",
       "      <td>0.3311</td>\n",
       "    </tr>\n",
       "    <tr>\n",
       "      <th>12</th>\n",
       "      <td>2014</td>\n",
       "      <td>137072</td>\n",
       "      <td>119470.0</td>\n",
       "      <td>0.1473</td>\n",
       "    </tr>\n",
       "    <tr>\n",
       "      <th>13</th>\n",
       "      <td>2015</td>\n",
       "      <td>167037</td>\n",
       "      <td>137072.0</td>\n",
       "      <td>0.2186</td>\n",
       "    </tr>\n",
       "    <tr>\n",
       "      <th>14</th>\n",
       "      <td>2016</td>\n",
       "      <td>185123</td>\n",
       "      <td>167037.0</td>\n",
       "      <td>0.1083</td>\n",
       "    </tr>\n",
       "    <tr>\n",
       "      <th>15</th>\n",
       "      <td>2017</td>\n",
       "      <td>210476</td>\n",
       "      <td>185123.0</td>\n",
       "      <td>0.1370</td>\n",
       "    </tr>\n",
       "  </tbody>\n",
       "</table>\n",
       "</div>"
      ],
      "text/plain": [
       "    anio    freq    freqt1  growth_yoy\n",
       "0   2002      65       NaN         NaN\n",
       "1   2003    2043      65.0     30.4308\n",
       "2   2004    1544    2043.0     -0.2442\n",
       "3   2005    1753    1544.0      0.1354\n",
       "4   2006    6461    1753.0      2.6857\n",
       "5   2007   13683    6461.0      1.1178\n",
       "6   2008   20832   13683.0      0.5225\n",
       "7   2009   34254   20832.0      0.6443\n",
       "8   2010   41026   34254.0      0.1977\n",
       "9   2011   57331   41026.0      0.3974\n",
       "10  2012   89753   57331.0      0.5655\n",
       "11  2013  119470   89753.0      0.3311\n",
       "12  2014  137072  119470.0      0.1473\n",
       "13  2015  167037  137072.0      0.2186\n",
       "14  2016  185123  167037.0      0.1083\n",
       "15  2017  210476  185123.0      0.1370"
      ]
     },
     "execution_count": 87,
     "metadata": {},
     "output_type": "execute_result"
    }
   ],
   "source": [
    "pd.read_sql(\"\"\"\n",
    "select * from xxx_temp_members_5\n",
    "\"\"\", con)"
   ]
  },
  {
   "cell_type": "code",
   "execution_count": 86,
   "metadata": {},
   "outputs": [
    {
     "data": {
      "text/html": [
       "<div>\n",
       "<style scoped>\n",
       "    .dataframe tbody tr th:only-of-type {\n",
       "        vertical-align: middle;\n",
       "    }\n",
       "\n",
       "    .dataframe tbody tr th {\n",
       "        vertical-align: top;\n",
       "    }\n",
       "\n",
       "    .dataframe thead th {\n",
       "        text-align: right;\n",
       "    }\n",
       "</style>\n",
       "<table border=\"1\" class=\"dataframe\">\n",
       "  <thead>\n",
       "    <tr style=\"text-align: right;\">\n",
       "      <th></th>\n",
       "      <th>anio</th>\n",
       "      <th>freq</th>\n",
       "      <th>freqt1</th>\n",
       "      <th>growth_yoy</th>\n",
       "    </tr>\n",
       "  </thead>\n",
       "  <tbody>\n",
       "    <tr>\n",
       "      <th>0</th>\n",
       "      <td>2002</td>\n",
       "      <td>65</td>\n",
       "      <td>NaN</td>\n",
       "      <td>NaN</td>\n",
       "    </tr>\n",
       "    <tr>\n",
       "      <th>1</th>\n",
       "      <td>2003</td>\n",
       "      <td>2043</td>\n",
       "      <td>65.0</td>\n",
       "      <td>30.4308</td>\n",
       "    </tr>\n",
       "    <tr>\n",
       "      <th>2</th>\n",
       "      <td>2004</td>\n",
       "      <td>1544</td>\n",
       "      <td>2043.0</td>\n",
       "      <td>-0.2442</td>\n",
       "    </tr>\n",
       "    <tr>\n",
       "      <th>3</th>\n",
       "      <td>2005</td>\n",
       "      <td>1753</td>\n",
       "      <td>1544.0</td>\n",
       "      <td>0.1354</td>\n",
       "    </tr>\n",
       "    <tr>\n",
       "      <th>4</th>\n",
       "      <td>2006</td>\n",
       "      <td>6461</td>\n",
       "      <td>1753.0</td>\n",
       "      <td>2.6857</td>\n",
       "    </tr>\n",
       "    <tr>\n",
       "      <th>5</th>\n",
       "      <td>2007</td>\n",
       "      <td>13683</td>\n",
       "      <td>6461.0</td>\n",
       "      <td>1.1178</td>\n",
       "    </tr>\n",
       "    <tr>\n",
       "      <th>6</th>\n",
       "      <td>2008</td>\n",
       "      <td>20832</td>\n",
       "      <td>13683.0</td>\n",
       "      <td>0.5225</td>\n",
       "    </tr>\n",
       "    <tr>\n",
       "      <th>7</th>\n",
       "      <td>2009</td>\n",
       "      <td>34254</td>\n",
       "      <td>20832.0</td>\n",
       "      <td>0.6443</td>\n",
       "    </tr>\n",
       "    <tr>\n",
       "      <th>8</th>\n",
       "      <td>2010</td>\n",
       "      <td>41026</td>\n",
       "      <td>34254.0</td>\n",
       "      <td>0.1977</td>\n",
       "    </tr>\n",
       "    <tr>\n",
       "      <th>9</th>\n",
       "      <td>2011</td>\n",
       "      <td>57331</td>\n",
       "      <td>41026.0</td>\n",
       "      <td>0.3974</td>\n",
       "    </tr>\n",
       "    <tr>\n",
       "      <th>10</th>\n",
       "      <td>2012</td>\n",
       "      <td>89753</td>\n",
       "      <td>57331.0</td>\n",
       "      <td>0.5655</td>\n",
       "    </tr>\n",
       "    <tr>\n",
       "      <th>11</th>\n",
       "      <td>2013</td>\n",
       "      <td>119470</td>\n",
       "      <td>89753.0</td>\n",
       "      <td>0.3311</td>\n",
       "    </tr>\n",
       "    <tr>\n",
       "      <th>12</th>\n",
       "      <td>2014</td>\n",
       "      <td>137072</td>\n",
       "      <td>119470.0</td>\n",
       "      <td>0.1473</td>\n",
       "    </tr>\n",
       "    <tr>\n",
       "      <th>13</th>\n",
       "      <td>2015</td>\n",
       "      <td>167037</td>\n",
       "      <td>137072.0</td>\n",
       "      <td>0.2186</td>\n",
       "    </tr>\n",
       "    <tr>\n",
       "      <th>14</th>\n",
       "      <td>2016</td>\n",
       "      <td>185123</td>\n",
       "      <td>167037.0</td>\n",
       "      <td>0.1083</td>\n",
       "    </tr>\n",
       "    <tr>\n",
       "      <th>15</th>\n",
       "      <td>2017</td>\n",
       "      <td>210476</td>\n",
       "      <td>185123.0</td>\n",
       "      <td>0.1370</td>\n",
       "    </tr>\n",
       "  </tbody>\n",
       "</table>\n",
       "</div>"
      ],
      "text/plain": [
       "    anio    freq    freqt1  growth_yoy\n",
       "0   2002      65       NaN         NaN\n",
       "1   2003    2043      65.0     30.4308\n",
       "2   2004    1544    2043.0     -0.2442\n",
       "3   2005    1753    1544.0      0.1354\n",
       "4   2006    6461    1753.0      2.6857\n",
       "5   2007   13683    6461.0      1.1178\n",
       "6   2008   20832   13683.0      0.5225\n",
       "7   2009   34254   20832.0      0.6443\n",
       "8   2010   41026   34254.0      0.1977\n",
       "9   2011   57331   41026.0      0.3974\n",
       "10  2012   89753   57331.0      0.5655\n",
       "11  2013  119470   89753.0      0.3311\n",
       "12  2014  137072  119470.0      0.1473\n",
       "13  2015  167037  137072.0      0.2186\n",
       "14  2016  185123  167037.0      0.1083\n",
       "15  2017  210476  185123.0      0.1370"
      ]
     },
     "execution_count": 86,
     "metadata": {},
     "output_type": "execute_result"
    }
   ],
   "source": [
    "pd.read_sql(\"\"\"\n",
    "select * from zzz_growth_yoy\n",
    "\"\"\", con)"
   ]
  },
  {
   "cell_type": "markdown",
   "metadata": {},
   "source": [
    "###  Oye vamos a resolver el siguiente reto, si quieres resolverlo tu mismo, dale pausa al video, e inténtalo.\n",
    "\n",
    "Debes calcular el crecimiento en número de usuarios, mes a mes."
   ]
  },
  {
   "cell_type": "code",
   "execution_count": null,
   "metadata": {},
   "outputs": [],
   "source": [
    "cursor.execute(\"\"\"\n",
    "create table zzz_growth_mom as\n",
    "select \n",
    "anio, mes, freq, freqt1, (freq/freqt1-1) as growth_mom\n",
    "from (\n",
    "select \n",
    "*, \n",
    "LAG(freq,1) OVER (ORDER BY anio,mes) AS freqt1\n",
    "from (\n",
    "select anio, mes, count(member_id) freq from\n",
    "(select member_id, joined, year(joined) as anio, month(joined) as mes\n",
    "from (select member_id, min(joined) as joined from meetup.members m group by member_id) x) y\n",
    "group by 1,2\n",
    ") z\n",
    ") a\n",
    "\"\"\")"
   ]
  },
  {
   "cell_type": "code",
   "execution_count": null,
   "metadata": {},
   "outputs": [],
   "source": [
    "pd.read_sql(\"\"\"select * from zzz_growth_mom\"\"\", con)"
   ]
  },
  {
   "cell_type": "markdown",
   "metadata": {},
   "source": [
    "# Clase 37\n",
    "### Ahora vamos a agregarle filtros a nuestras tablas de crecimiento para entender cómo se comporta cada estado y ciudad.\n",
    "Probemos si basta con usar el código que ya escribimos arriba y agregarle las variables country, state, city.\n"
   ]
  },
  {
   "cell_type": "code",
   "execution_count": null,
   "metadata": {},
   "outputs": [],
   "source": [
    "pd.read_sql('''\n",
    "select country, state, city, anio, count(member_id) from\n",
    "(select country, state, city, member_id, joined, year(joined) as anio, month(joined) as mes\n",
    "from (select country, state, city, member_id, min(joined) as joined from meetup.members m group by member_id) x) y\n",
    "group by 1,2,3,4\n",
    "''', con).head(20)"
   ]
  },
  {
   "cell_type": "code",
   "execution_count": 90,
   "metadata": {},
   "outputs": [
    {
     "data": {
      "text/plain": [
       "131"
      ]
     },
     "execution_count": 90,
     "metadata": {},
     "output_type": "execute_result"
    }
   ],
   "source": [
    "cursor.execute(\"\"\"\n",
    "create table zzz_growth_yoy_filtros_geo as\n",
    "select \n",
    "country, state, city, anio, freq, freqt1, (freq/freqt1-1) as growth_yoy\n",
    "from (\n",
    "select \n",
    "*, \n",
    "LAG(freq,1) OVER (ORDER BY freq) AS freqt1\n",
    "from (\n",
    "select country, state, city, anio, count(member_id) freq from\n",
    "(select country, state, city, member_id, joined, year(joined) as anio\n",
    "from (select country, state, city, member_id, min(joined) as joined from meetup.members m group by member_id) x) y\n",
    "group by 1,2,3,4\n",
    ") z\n",
    "order by 1,2,3,4\n",
    ") a\n",
    "\"\"\")"
   ]
  },
  {
   "cell_type": "code",
   "execution_count": null,
   "metadata": {},
   "outputs": [],
   "source": [
    "cursor.execute(\"\"\"drop table zzz_growth_yoy_filtros_geo\"\"\")"
   ]
  },
  {
   "cell_type": "code",
   "execution_count": null,
   "metadata": {},
   "outputs": [],
   "source": [
    "pd.read_sql(\"\"\"\n",
    "select * from zzz_growth_yoy_filtros_geo\n",
    "order by 1,2,3,4\n",
    "\"\"\",con)"
   ]
  },
  {
   "cell_type": "code",
   "execution_count": 103,
   "metadata": {},
   "outputs": [
    {
     "data": {
      "text/html": [
       "<div>\n",
       "<style scoped>\n",
       "    .dataframe tbody tr th:only-of-type {\n",
       "        vertical-align: middle;\n",
       "    }\n",
       "\n",
       "    .dataframe tbody tr th {\n",
       "        vertical-align: top;\n",
       "    }\n",
       "\n",
       "    .dataframe thead th {\n",
       "        text-align: right;\n",
       "    }\n",
       "</style>\n",
       "<table border=\"1\" class=\"dataframe\">\n",
       "  <thead>\n",
       "    <tr style=\"text-align: right;\">\n",
       "      <th></th>\n",
       "      <th>member_status</th>\n",
       "      <th>count(member_id)</th>\n",
       "    </tr>\n",
       "  </thead>\n",
       "  <tbody>\n",
       "    <tr>\n",
       "      <th>0</th>\n",
       "      <td>active</td>\n",
       "      <td>5889254</td>\n",
       "    </tr>\n",
       "    <tr>\n",
       "      <th>1</th>\n",
       "      <td>prereg</td>\n",
       "      <td>4632</td>\n",
       "    </tr>\n",
       "  </tbody>\n",
       "</table>\n",
       "</div>"
      ],
      "text/plain": [
       "  member_status  count(member_id)\n",
       "0        active           5889254\n",
       "1        prereg              4632"
      ]
     },
     "execution_count": 103,
     "metadata": {},
     "output_type": "execute_result"
    }
   ],
   "source": [
    "pd.read_sql(\"\"\"\n",
    "select member_status, count(member_id) \n",
    "from meetup.members\n",
    "group by 1\n",
    "\"\"\",con)"
   ]
  },
  {
   "cell_type": "code",
   "execution_count": 102,
   "metadata": {},
   "outputs": [
    {
     "data": {
      "text/html": [
       "<div>\n",
       "<style scoped>\n",
       "    .dataframe tbody tr th:only-of-type {\n",
       "        vertical-align: middle;\n",
       "    }\n",
       "\n",
       "    .dataframe tbody tr th {\n",
       "        vertical-align: top;\n",
       "    }\n",
       "\n",
       "    .dataframe thead th {\n",
       "        text-align: right;\n",
       "    }\n",
       "</style>\n",
       "<table border=\"1\" class=\"dataframe\">\n",
       "  <thead>\n",
       "    <tr style=\"text-align: right;\">\n",
       "      <th></th>\n",
       "      <th>member_status</th>\n",
       "      <th>count(distinct member_id)</th>\n",
       "    </tr>\n",
       "  </thead>\n",
       "  <tbody>\n",
       "    <tr>\n",
       "      <th>0</th>\n",
       "      <td>active</td>\n",
       "      <td>1087230</td>\n",
       "    </tr>\n",
       "    <tr>\n",
       "      <th>1</th>\n",
       "      <td>prereg</td>\n",
       "      <td>695</td>\n",
       "    </tr>\n",
       "  </tbody>\n",
       "</table>\n",
       "</div>"
      ],
      "text/plain": [
       "  member_status  count(distinct member_id)\n",
       "0        active                    1087230\n",
       "1        prereg                        695"
      ]
     },
     "execution_count": 102,
     "metadata": {},
     "output_type": "execute_result"
    }
   ],
   "source": [
    "pd.read_sql(\"\"\"\n",
    "select member_status, count(distinct member_id)\n",
    "from meetup.members\n",
    "group by 1\n",
    "\"\"\",con)"
   ]
  },
  {
   "cell_type": "markdown",
   "metadata": {},
   "source": [
    "Como ya teníamos nuestro query anterior lo único que debemos hacer es filtrar a los miembros activos desde nuestro pimer subquery."
   ]
  },
  {
   "cell_type": "code",
   "execution_count": 96,
   "metadata": {},
   "outputs": [
    {
     "data": {
      "text/plain": [
       "131"
      ]
     },
     "execution_count": 96,
     "metadata": {},
     "output_type": "execute_result"
    }
   ],
   "source": [
    "cursor.execute(\"\"\"\n",
    "create table zzz_growth_yoy_filtros_geo_active as\n",
    "select \n",
    "country, state, city, anio, freq, freqt1, (freq/freqt1-1) as growth_yoy\n",
    "from (\n",
    "select \n",
    "*, \n",
    "LAG(freq,1) OVER (ORDER BY freq) AS freqt1\n",
    "from (\n",
    "select country, state, city, anio, count(member_id) freq from\n",
    "(select country, state, city, member_id, joined, year(joined) as anio\n",
    "from (select country, state, city, member_id, min(joined) as joined from meetup.members m where member_status=\"active\" group by member_id ) x) y\n",
    "group by 1,2,3,4\n",
    ") z\n",
    "order by 1,2,3,4\n",
    ") a\n",
    "\"\"\")"
   ]
  },
  {
   "cell_type": "code",
   "execution_count": null,
   "metadata": {},
   "outputs": [],
   "source": [
    "cursor.execute(\"\"\"\n",
    "drop table zzz_growth_yoy_filtros_geo_active as\n",
    "\"\"\")"
   ]
  },
  {
   "cell_type": "markdown",
   "metadata": {},
   "source": [
    "# GRAFICAS: \n",
    "3. zzz_growth_yoy_filtros_geo\n",
    "4. zzz_growth_yoy_filtros_geo_active\n"
   ]
  },
  {
   "cell_type": "markdown",
   "metadata": {},
   "source": [
    "Vamos a validar que efectivamente hicimos bien el query y estamos conservando solo usuarios activos"
   ]
  },
  {
   "cell_type": "code",
   "execution_count": 108,
   "metadata": {},
   "outputs": [
    {
     "data": {
      "text/html": [
       "<div>\n",
       "<style scoped>\n",
       "    .dataframe tbody tr th:only-of-type {\n",
       "        vertical-align: middle;\n",
       "    }\n",
       "\n",
       "    .dataframe tbody tr th {\n",
       "        vertical-align: top;\n",
       "    }\n",
       "\n",
       "    .dataframe thead th {\n",
       "        text-align: right;\n",
       "    }\n",
       "</style>\n",
       "<table border=\"1\" class=\"dataframe\">\n",
       "  <thead>\n",
       "    <tr style=\"text-align: right;\">\n",
       "      <th></th>\n",
       "      <th>sum(freq)</th>\n",
       "    </tr>\n",
       "  </thead>\n",
       "  <tbody>\n",
       "    <tr>\n",
       "      <th>0</th>\n",
       "      <td>1087230.0</td>\n",
       "    </tr>\n",
       "  </tbody>\n",
       "</table>\n",
       "</div>"
      ],
      "text/plain": [
       "   sum(freq)\n",
       "0  1087230.0"
      ]
     },
     "execution_count": 108,
     "metadata": {},
     "output_type": "execute_result"
    }
   ],
   "source": [
    "pd.read_sql(\"\"\" select sum(freq) from zzz_growth_yoy_filtros_geo_active \"\"\",con)"
   ]
  },
  {
   "cell_type": "code",
   "execution_count": 100,
   "metadata": {},
   "outputs": [
    {
     "data": {
      "text/html": [
       "<div>\n",
       "<style scoped>\n",
       "    .dataframe tbody tr th:only-of-type {\n",
       "        vertical-align: middle;\n",
       "    }\n",
       "\n",
       "    .dataframe tbody tr th {\n",
       "        vertical-align: top;\n",
       "    }\n",
       "\n",
       "    .dataframe thead th {\n",
       "        text-align: right;\n",
       "    }\n",
       "</style>\n",
       "<table border=\"1\" class=\"dataframe\">\n",
       "  <thead>\n",
       "    <tr style=\"text-align: right;\">\n",
       "      <th></th>\n",
       "      <th>sum(freq)</th>\n",
       "    </tr>\n",
       "  </thead>\n",
       "  <tbody>\n",
       "    <tr>\n",
       "      <th>0</th>\n",
       "      <td>1087923.0</td>\n",
       "    </tr>\n",
       "  </tbody>\n",
       "</table>\n",
       "</div>"
      ],
      "text/plain": [
       "   sum(freq)\n",
       "0  1087923.0"
      ]
     },
     "execution_count": 100,
     "metadata": {},
     "output_type": "execute_result"
    }
   ],
   "source": [
    "pd.read_sql(\"\"\" select sum(freq) from zzz_growth_yoy_filtros_geo \"\"\",con)"
   ]
  },
  {
   "cell_type": "markdown",
   "metadata": {},
   "source": [
    "# Cuántos eventos se celebran en WeWork\n",
    "\n",
    "### CRUZAR meetup, groups, events, venues\n",
    "\n",
    "joins:"
   ]
  },
  {
   "cell_type": "code",
   "execution_count": 3,
   "metadata": {},
   "outputs": [
    {
     "data": {
      "image/jpeg": "[encoded data removed]",
      "text/plain": [
       "<IPython.core.display.Image object>"
      ]
     },
     "execution_count": 3,
     "metadata": {},
     "output_type": "execute_result"
    }
   ],
   "source": [
    "Image('../images/sqljoin.jpeg')"
   ]
  },
  {
   "cell_type": "code",
   "execution_count": 106,
   "metadata": {},
   "outputs": [
    {
     "data": {
      "text/html": [
       "<div>\n",
       "<style scoped>\n",
       "    .dataframe tbody tr th:only-of-type {\n",
       "        vertical-align: middle;\n",
       "    }\n",
       "\n",
       "    .dataframe tbody tr th {\n",
       "        vertical-align: top;\n",
       "    }\n",
       "\n",
       "    .dataframe thead th {\n",
       "        text-align: right;\n",
       "    }\n",
       "</style>\n",
       "<table border=\"1\" class=\"dataframe\">\n",
       "  <thead>\n",
       "    <tr style=\"text-align: right;\">\n",
       "      <th></th>\n",
       "      <th>count(*)</th>\n",
       "    </tr>\n",
       "  </thead>\n",
       "  <tbody>\n",
       "    <tr>\n",
       "      <th>0</th>\n",
       "      <td>757</td>\n",
       "    </tr>\n",
       "  </tbody>\n",
       "</table>\n",
       "</div>"
      ],
      "text/plain": [
       "   count(*)\n",
       "0       757"
      ]
     },
     "execution_count": 106,
     "metadata": {},
     "output_type": "execute_result"
    }
   ],
   "source": [
    "pd.read_sql(\"\"\"\n",
    "select count(*) from meetup.venues\n",
    "where venue_name like '%WeWork%';\"\"\",con)"
   ]
  },
  {
   "cell_type": "markdown",
   "metadata": {},
   "source": [
    "Cuántos eventos se celebran en todo lado"
   ]
  },
  {
   "cell_type": "code",
   "execution_count": 107,
   "metadata": {},
   "outputs": [
    {
     "data": {
      "text/html": [
       "<div>\n",
       "<style scoped>\n",
       "    .dataframe tbody tr th:only-of-type {\n",
       "        vertical-align: middle;\n",
       "    }\n",
       "\n",
       "    .dataframe tbody tr th {\n",
       "        vertical-align: top;\n",
       "    }\n",
       "\n",
       "    .dataframe thead th {\n",
       "        text-align: right;\n",
       "    }\n",
       "</style>\n",
       "<table border=\"1\" class=\"dataframe\">\n",
       "  <thead>\n",
       "    <tr style=\"text-align: right;\">\n",
       "      <th></th>\n",
       "      <th>count(*)</th>\n",
       "    </tr>\n",
       "  </thead>\n",
       "  <tbody>\n",
       "    <tr>\n",
       "      <th>0</th>\n",
       "      <td>107093</td>\n",
       "    </tr>\n",
       "  </tbody>\n",
       "</table>\n",
       "</div>"
      ],
      "text/plain": [
       "   count(*)\n",
       "0    107093"
      ]
     },
     "execution_count": 107,
     "metadata": {},
     "output_type": "execute_result"
    }
   ],
   "source": [
    "pd.read_sql(\"\"\"\n",
    "select count(*) from meetup.venues\n",
    "\"\"\",con)"
   ]
  },
  {
   "cell_type": "markdown",
   "metadata": {},
   "source": [
    "# GRAFICA\n",
    "5. zzz_growth_yoy_filtros_geo_wework."
   ]
  },
  {
   "cell_type": "code",
   "execution_count": null,
   "metadata": {},
   "outputs": [],
   "source": []
  }
 ],
 "metadata": {
  "kernelspec": {
   "display_name": "Python 3",
   "language": "python",
   "name": "python3"
  },
  "language_info": {
   "codemirror_mode": {
    "name": "ipython",
    "version": 3
   },
   "file_extension": ".py",
   "mimetype": "text/x-python",
   "name": "python",
   "nbconvert_exporter": "python",
   "pygments_lexer": "ipython3",
   "version": "3.7.3"
  }
 },
 "nbformat": 4,
 "nbformat_minor": 4
}
