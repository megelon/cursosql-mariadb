{
 "cells": [
  {
   "cell_type": "markdown",
   "metadata": {},
   "source": [
    "# Modulo 5: Fase 2 CRISP-DM: Entendimiento de los datos"
   ]
  },
  {
   "cell_type": "code",
   "execution_count": null,
   "metadata": {},
   "outputs": [],
   "source": [
    "from IPython.display import Image\n",
    "Image(\"../Images/crisp_dm_2.png\")"
   ]
  },
  {
   "cell_type": "code",
   "execution_count": null,
   "metadata": {},
   "outputs": [],
   "source": [
    "import pandas as pd\n",
    "import MySQLdb as mdb\n",
    "con=mdb.connect(user='root',database='meetup')\n",
    "cursor = con.cursor()"
   ]
  },
  {
   "cell_type": "markdown",
   "metadata": {},
   "source": [
    "# Clase 27. Recolectar los datos iniciales (create table, insert into)\n",
    "\n",
    "Hola en esta clase vamos a cargar los archivos a nuestro sistema de gestión de bases de datos relacional. \n",
    "\n",
    "Lo primero que vamos a hacer es revisar que tipo de permisos tenemos."
   ]
  },
  {
   "cell_type": "code",
   "execution_count": null,
   "metadata": {},
   "outputs": [],
   "source": [
    "pd.read_sql(\"select host,user from mysql.user;\",mariadb_connection)"
   ]
  },
  {
   "cell_type": "markdown",
   "metadata": {},
   "source": [
    "\n",
    "Luego vamos crear las siguientes tablas: \n",
    "\n",
    "1. categories\n",
    "2. cities\n",
    "3. venues\n",
    "4. topics\n",
    "5. groups\n",
    "6. events\n",
    "7. groups_topics\n",
    "8. members\n",
    "9. members_topics\n",
    "\n",
    "Debemos ser cuidadosos y seguir las especificaciones de nuestro diagrama entidad relación para cada campo.\n",
    "Entonces lo primero es que debemos hacer es ir a kaggle a buscar nuestro diagrama.\n",
    "Y empezamos en orden.\n",
    "\n",
    "Antes que nada crear el esquema."
   ]
  },
  {
   "cell_type": "code",
   "execution_count": null,
   "metadata": {},
   "outputs": [],
   "source": [
    "cursor.execute(\"\"\"create schema meetup;\"\"\")"
   ]
  },
  {
   "cell_type": "markdown",
   "metadata": {},
   "source": [
    "Una vez creado el esquema de la base de datos, vamos a crear nuestra primera tabla. Si te sientes muy perdido, no te preocupes, te voy a compartir los códigos para crear las tablas.\n",
    "\n",
    "Pero bueno empecemos."
   ]
  },
  {
   "cell_type": "markdown",
   "metadata": {},
   "source": [
    "la primera tabla es la tabla\n",
    "# categories\n",
    "- según nuestro diagrama entidad relación\n",
    "- esta tabla tiene una llave primaria \"category id\" \n",
    "- cuenta con una relación 1 a muchos.. con la tabla groups.\n",
    "- lo que significa.. \n",
    "- tiene tres campos del formato varchar con una longitud de 45 c/u."
   ]
  },
  {
   "cell_type": "code",
   "execution_count": null,
   "metadata": {},
   "outputs": [],
   "source": [
    "cursor.execute(\"\"\" drop table meetup.categories; \"\"\")"
   ]
  },
  {
   "cell_type": "code",
   "execution_count": null,
   "metadata": {},
   "outputs": [],
   "source": [
    "cursor.execute(\"\"\" \n",
    "create table meetup.categories(\n",
    "category_id INT(11) PRIMARY KEY,\n",
    "category_name VARCHAR(45) ,\n",
    "shortname VARCHAR(45) ,\n",
    "sort_name VARCHAR(45) \n",
    "); \n",
    "\"\"\")"
   ]
  },
  {
   "cell_type": "markdown",
   "metadata": {},
   "source": [
    "muy bien! ya está nuestra primera tabla, categories, ahora \n",
    "# cities"
   ]
  },
  {
   "cell_type": "code",
   "execution_count": null,
   "metadata": {},
   "outputs": [],
   "source": [
    "cursor.execute(\"\"\" drop table meetup.cities; \"\"\")"
   ]
  },
  {
   "cell_type": "code",
   "execution_count": null,
   "metadata": {},
   "outputs": [],
   "source": [
    "cursor.execute(\"\"\" \n",
    "create table meetup. cities(\n",
    "city VARCHAR(45) ,\n",
    "city_id INT(11) PRIMARY KEY,\n",
    "country CHAR(2) ,\n",
    "distance DECIMAL(12,3) ,\n",
    "latitude DECIMAL(12,8) ,\n",
    "localized_country_name VARCHAR(45) ,\n",
    "longitude DECIMAL(12,8) ,\n",
    "member_count INT(11) ,\n",
    "ranking INT(11) ,\n",
    "state CHAR(2) ,\n",
    "zip INT(11) \n",
    "); \n",
    "\n",
    "\"\"\")"
   ]
  },
  {
   "cell_type": "markdown",
   "metadata": {},
   "source": [
    "# venues "
   ]
  },
  {
   "cell_type": "code",
   "execution_count": null,
   "metadata": {},
   "outputs": [],
   "source": [
    "cursor.execute(\"\"\" drop table meetup.venues; \"\"\")"
   ]
  },
  {
   "cell_type": "code",
   "execution_count": null,
   "metadata": {},
   "outputs": [],
   "source": [
    "cursor.execute(\"\"\" \n",
    "create table meetup. venues(\n",
    "venue_id INT(11) PRIMARY KEY,\n",
    "address_1 VARCHAR(200) ,\n",
    "city VARCHAR(45) ,\n",
    "country CHAR(2) ,\n",
    "distance DECIMAL(10,2) ,\n",
    "lat DECIMAL(12,8) ,\n",
    "localized_country_name VARCHAR(45) ,\n",
    "lon DECIMAL(12,8) ,\n",
    "venue_name VARCHAR(300) ,\n",
    "rating INT(11) ,\n",
    "rating_count INT(11) ,\n",
    "state CHAR(3) ,\n",
    "zip VARCHAR(11) ,\n",
    "normalised_rating VARCHAR(11) \n",
    "); \n",
    "\"\"\")"
   ]
  },
  {
   "cell_type": "markdown",
   "metadata": {},
   "source": [
    "# topics"
   ]
  },
  {
   "cell_type": "code",
   "execution_count": null,
   "metadata": {},
   "outputs": [],
   "source": [
    "cursor.execute(\"\"\" drop table meetup.topics; \"\"\")"
   ]
  },
  {
   "cell_type": "code",
   "execution_count": null,
   "metadata": {},
   "outputs": [],
   "source": [
    "cursor.execute(\"\"\" \n",
    "create table meetup. topics(\n",
    "topic_id INT(11) PRIMARY KEY,\n",
    "description VARCHAR(499) ,\n",
    "link VARCHAR(99) ,\n",
    "members INT(11) ,\n",
    "topic_name VARCHAR(99) ,\n",
    "urlkey VARCHAR(99) ,\n",
    "main_topic_id INT(11) \n",
    "); \n",
    "\"\"\")"
   ]
  },
  {
   "cell_type": "markdown",
   "metadata": {},
   "source": [
    "# groups"
   ]
  },
  {
   "cell_type": "code",
   "execution_count": null,
   "metadata": {},
   "outputs": [],
   "source": [
    "cursor.execute(\"\"\"\n",
    "create table meetup.groups(\n",
    "group_id INT(11) PRIMARY KEY,\n",
    "category_id INT(11) ,\n",
    "category_name VARCHAR(45) ,\n",
    "category_shortname VARCHAR(45) ,\n",
    "city_id INT(11) ,\n",
    "city VARCHAR(45) ,\n",
    "country VARCHAR(45) ,\n",
    "created DATETIME,\n",
    "description LONGTEXT,\n",
    "group_photo_base_url VARCHAR(33) ,\n",
    "group_photo_highres_link VARCHAR(99) ,\n",
    "group_photo_photo_id VARCHAR(11) ,\n",
    "group_photo_photo_link VARCHAR(99) ,\n",
    "group_photo_thumb_link VARCHAR(99) ,\n",
    "group_photo_type VARCHAR(11) ,\n",
    "join_mode VARCHAR(11) ,\n",
    "lat DECIMAL(12,8) ,\n",
    "link VARCHAR(450) ,\n",
    "lon DECIMAL(12,8) ,\n",
    "members INT(11) ,\n",
    "group_name VARCHAR(150) ,\n",
    "organizer_member_id INT(11) ,\n",
    "organizer_name VARCHAR(99) ,\n",
    "organizer_photo_base_url VARCHAR(44) ,\n",
    "organizer_photo_highres_link VARCHAR(99) ,\n",
    "organizer_photo_photo_id VARCHAR(11) ,\n",
    "organizer_photo_photo_link VARCHAR(99) ,\n",
    "organizer_photo_thumb_link VARCHAR(99) ,\n",
    "organizer_photo_type VARCHAR(11) ,\n",
    "rating DECIMAL(4,2) ,\n",
    "state CHAR(2) ,\n",
    "timezone VARCHAR(65) ,\n",
    "urlname VARCHAR(65) ,\n",
    "utc_offset INT(11) ,\n",
    "visibility VARCHAR(22) ,\n",
    "who VARCHAR(99) ,\n",
    "foreign key category_id_fk (category_id) references categories (category_id), \n",
    "foreign key city_id_fk (city_id) references cities (city_id) \n",
    "); \n",
    "\"\"\")"
   ]
  },
  {
   "cell_type": "markdown",
   "metadata": {},
   "source": [
    "# events"
   ]
  },
  {
   "cell_type": "code",
   "execution_count": null,
   "metadata": {},
   "outputs": [],
   "source": [
    "cursor.execute(\"\"\" drop table meetup.events;\"\"\")"
   ]
  },
  {
   "cell_type": "code",
   "execution_count": null,
   "metadata": {},
   "outputs": [],
   "source": [
    "cursor.execute(\"\"\"\n",
    "create table meetup. events(\n",
    "event_id VARCHAR(75) PRIMARY KEY,\n",
    "created DATETIME,\n",
    "description LONGTEXT,\n",
    "duration INT(11) ,\n",
    "event_url VARCHAR(250) ,\n",
    "fee_accepts VARCHAR(11) ,\n",
    "fee_amount VARCHAR(11) ,\n",
    "fee_currency VARCHAR(11) ,\n",
    "fee_description VARCHAR(20) ,\n",
    "fee_label VARCHAR(11) ,\n",
    "fee_required VARCHAR(11) ,\n",
    "group_created VARCHAR(20) ,\n",
    "group_group_lat VARCHAR(11) ,\n",
    "group_group_lon VARCHAR(22) ,\n",
    "group_id INT(11) ,\n",
    "group_join_mode VARCHAR(11) ,\n",
    "group_name VARCHAR(99) ,\n",
    "group_urlname VARCHAR(99) ,\n",
    "group_who VARCHAR(45) ,\n",
    "headcount INT(11) ,\n",
    "how_to_find_us VARCHAR(250) ,\n",
    "maybe_rsvp_count INT(11) ,\n",
    "event_name VARCHAR(95) ,\n",
    "photo_url VARCHAR(99) ,\n",
    "rating_average INT(1) ,\n",
    "rating_count INT(2) ,\n",
    "rsvp_limit INT(11) ,\n",
    "event_status VARCHAR(8) ,\n",
    "event_time DATETIME,\n",
    "updated DATETIME,\n",
    "utc_offset INT(11) ,\n",
    "venue_address_1 VARCHAR(45) ,\n",
    "venue_address_2 VARCHAR(45) ,\n",
    "venue_city VARCHAR(22) ,\n",
    "venue_country VARCHAR(11) ,\n",
    "venue_id INT(11) ,\n",
    "venue_lat VARCHAR(11) ,\n",
    "venue_localized_country_name VARCHAR(11) ,\n",
    "venue_lon VARCHAR(22) ,\n",
    "venue_name VARCHAR(99) ,\n",
    "venue_phone LONGTEXT ,\n",
    "venue_repinned INT(11) ,\n",
    "venue_state VARCHAR(11) ,\n",
    "venue_zip INT(11) ,\n",
    "visibility VARCHAR(11) ,\n",
    "waitlist_count INT(11) ,\n",
    "why VARCHAR(11) ,\n",
    "yes_rsvp_count INT(11) ,\n",
    "foreign key groups_id_fk3 (group_id) references groups (group_id), \n",
    "foreign key venue_id_fk (venue_id) references venues (venue_id) \n",
    "); \n",
    "\"\"\")"
   ]
  },
  {
   "cell_type": "markdown",
   "metadata": {},
   "source": [
    "# groups_topics"
   ]
  },
  {
   "cell_type": "code",
   "execution_count": null,
   "metadata": {},
   "outputs": [],
   "source": [
    "cursor.execute(\"\"\"drop table meetup.groups_topics\"\"\")"
   ]
  },
  {
   "cell_type": "markdown",
   "metadata": {},
   "source": [
    "Hay un tema y es que el topic_id no puede ser un foreign key, contradiciendo lo que dice el EER diagram porque tiene entradas duplicadas así que vamos a comentariar esa parte en dónde declaramos el topic_id como un foreign key."
   ]
  },
  {
   "cell_type": "code",
   "execution_count": null,
   "metadata": {},
   "outputs": [],
   "source": [
    "cursor.execute(\"\"\"\n",
    "create table meetup.groups_topics(\n",
    "topic_id INT(11) ,\n",
    "topic_key VARCHAR(60) ,\n",
    "topic_name VARCHAR(60) ,\n",
    "group_id INT(11) ,\n",
    "#foreign key topic_id_fk2 (topic_id) references topics (topic_id), \n",
    "foreign key group_id_fk2 (group_id) references groups (group_id) \n",
    "); \n",
    "\"\"\")"
   ]
  },
  {
   "cell_type": "markdown",
   "metadata": {},
   "source": [
    "# members"
   ]
  },
  {
   "cell_type": "markdown",
   "metadata": {},
   "source": [
    "Si queremos borrar la tabla members y ya habíamos creado la tabla members_topics tenemos que borrar la tabla members_topics antes."
   ]
  },
  {
   "cell_type": "code",
   "execution_count": null,
   "metadata": {},
   "outputs": [],
   "source": [
    "cursor.execute(\"\"\"drop table meetup.members;\"\"\")"
   ]
  },
  {
   "cell_type": "markdown",
   "metadata": {},
   "source": [
    "Encontramos otra inconsistencia del diagrama entidad relación, el campo \"member_id\" no puede ser un primary key, porque tiene duplicados y uno de las claves en SQL es que no tengamos duplicados."
   ]
  },
  {
   "cell_type": "code",
   "execution_count": null,
   "metadata": {},
   "outputs": [],
   "source": [
    "cursor.execute(\"\"\"\n",
    "create table meetup.members(\n",
    "member_id INT(11), \n",
    "bio LONGTEXT ,\n",
    "city VARCHAR(45) ,\n",
    "country CHAR(2) ,\n",
    "hometown VARCHAR(45),\n",
    "joined DATETIME ,\n",
    "lat DECIMAL(12,8) ,\n",
    "link VARCHAR(200) ,\n",
    "lon DECIMAL(12,8) ,\n",
    "member_name VARCHAR(45) ,\n",
    "state CHAR(2) ,\n",
    "member_status VARCHAR(45) ,\n",
    "visited DATETIME ,\n",
    "group_id INT(11) \n",
    ")\n",
    "CHARACTER SET utf8 COLLATE utf8_general_ci\n",
    "; \n",
    "\"\"\")\n"
   ]
  },
  {
   "cell_type": "markdown",
   "metadata": {},
   "source": [
    "# members topics"
   ]
  },
  {
   "cell_type": "code",
   "execution_count": null,
   "metadata": {},
   "outputs": [],
   "source": [
    "cursor.execute(\"\"\"drop table meetup.members_topics;\"\"\")"
   ]
  },
  {
   "cell_type": "code",
   "execution_count": null,
   "metadata": {},
   "outputs": [],
   "source": [
    "cursor.execute(\"\"\"\n",
    "create table meetup.members_topics(\n",
    "topic_id INT(11) ,\n",
    "topic_key VARCHAR(99) ,\n",
    "topic_name VARCHAR(99) ,\n",
    "member_id INT(11) ,\n",
    "foreign key topic_id_fk (topic_id) references topics (topic_id) \n",
    "#,foreign key member_id_fk (member_id) references members (member_id) \n",
    "); \n",
    "\"\"\")"
   ]
  },
  {
   "cell_type": "markdown",
   "metadata": {},
   "source": [
    "# Clase 28. Cargue de los datos (por interfáz gráfica)"
   ]
  },
  {
   "cell_type": "markdown",
   "metadata": {},
   "source": []
  },
  {
   "cell_type": "code",
   "execution_count": null,
   "metadata": {},
   "outputs": [],
   "source": [
    "Image(\"../Images/erdiagram.png\")\n",
    "Image(\"../Images/dbeaver_21.png\")"
   ]
  },
  {
   "cell_type": "markdown",
   "metadata": {},
   "source": [
    "# Clase 29. Cargue de los datos (load data infile)\n",
    "* 1 categories\n",
    "* 2 cities\n",
    "* 3 venues\n",
    "* 4 topics\n",
    "* 5 groups\n",
    "* 6 events\n",
    "* 7 groups_topics\n",
    "* 8 members\n",
    "* 9 members_topics"
   ]
  },
  {
   "cell_type": "code",
   "execution_count": null,
   "metadata": {},
   "outputs": [],
   "source": [
    "path='\"C:/Users/Usuario/Documents/MAD_meetup/src/input_raw/meetups-data-from-meetupcom/'"
   ]
  },
  {
   "cell_type": "markdown",
   "metadata": {},
   "source": [
    "# categories"
   ]
  },
  {
   "cell_type": "code",
   "execution_count": null,
   "metadata": {},
   "outputs": [],
   "source": [
    "cursor.execute(\"\"\"\n",
    "load data infile \"\"\"+path+\"\"\"categories.csv\" \n",
    "into table meetup.categories\n",
    "fields\n",
    "terminated by ','\n",
    "enclosed by '\"'\n",
    "lines\n",
    "terminated by '\\n'\n",
    "ignore 1 lines\n",
    ";\n",
    "\n",
    "\"\"\")"
   ]
  },
  {
   "cell_type": "markdown",
   "metadata": {},
   "source": [
    "# cities"
   ]
  },
  {
   "cell_type": "code",
   "execution_count": null,
   "metadata": {},
   "outputs": [],
   "source": [
    "cursor.execute(\"\"\"\n",
    "load data infile \"\"\"+path+\"\"\"cities.csv\" \n",
    "into table meetup.cities\n",
    "fields\n",
    "terminated by ','\n",
    "enclosed by '\"'\n",
    "lines\n",
    "terminated by '\\n'\n",
    "ignore 1 lines\n",
    ";\n",
    "\n",
    "\"\"\")"
   ]
  },
  {
   "cell_type": "markdown",
   "metadata": {},
   "source": [
    "# venues"
   ]
  },
  {
   "cell_type": "code",
   "execution_count": null,
   "metadata": {},
   "outputs": [],
   "source": [
    "cursor.execute(\"\"\"\n",
    "load data infile \"\"\"+path+\"\"\"venues.csv\" \n",
    "into table meetup.venues\n",
    "fields\n",
    "terminated by ','\n",
    "enclosed by '\"'\n",
    "lines\n",
    "terminated by '\\n'\n",
    "ignore 1 lines\n",
    ";\n",
    "\n",
    "\"\"\")"
   ]
  },
  {
   "cell_type": "markdown",
   "metadata": {},
   "source": [
    "# topics"
   ]
  },
  {
   "cell_type": "code",
   "execution_count": null,
   "metadata": {},
   "outputs": [],
   "source": [
    "cursor.execute(\"\"\"\n",
    "load data infile \"\"\"+path+\"\"\"topics.csv\" \n",
    "into table meetup.topics\n",
    "fields\n",
    "terminated by ','\n",
    "enclosed by '\"'\n",
    "lines\n",
    "terminated by '\\n'\n",
    "ignore 1 lines\n",
    ";\n",
    "\n",
    "\"\"\")"
   ]
  },
  {
   "cell_type": "markdown",
   "metadata": {},
   "source": [
    "# groups"
   ]
  },
  {
   "cell_type": "code",
   "execution_count": null,
   "metadata": {},
   "outputs": [],
   "source": [
    "cursor.execute(\"\"\"\n",
    "load data infile \"\"\"+path+\"\"\"groups.csv\" \n",
    "into table meetup.groups\n",
    "fields\n",
    "terminated by ','\n",
    "enclosed by '\"'\n",
    "lines\n",
    "terminated by '\\n'\n",
    "ignore 1 lines\n",
    ";\n",
    "\n",
    "\"\"\")"
   ]
  },
  {
   "cell_type": "markdown",
   "metadata": {},
   "source": [
    "# events"
   ]
  },
  {
   "cell_type": "code",
   "execution_count": null,
   "metadata": {},
   "outputs": [],
   "source": [
    "cursor.execute(\"\"\"\n",
    "load data infile \"\"\"+path+\"\"\"events.csv\" \n",
    "into table meetup.events\n",
    "fields\n",
    "terminated by ','\n",
    "enclosed by '\"'\n",
    "lines\n",
    "terminated by '\\n'\n",
    "ignore 1 lines\n",
    ";\n",
    "\n",
    "\"\"\")"
   ]
  },
  {
   "cell_type": "markdown",
   "metadata": {},
   "source": [
    "# groups_topics"
   ]
  },
  {
   "cell_type": "code",
   "execution_count": null,
   "metadata": {},
   "outputs": [],
   "source": [
    "cursor.execute(\"\"\"\n",
    "load data infile \"\"\"+path+\"\"\"groups_topics.csv\" \n",
    "into table meetup.groups_topics\n",
    "fields\n",
    "terminated by ','\n",
    "enclosed by '\"'\n",
    "lines\n",
    "terminated by '\\n'\n",
    "ignore 1 lines\n",
    ";\n",
    "\n",
    "\"\"\")"
   ]
  },
  {
   "cell_type": "markdown",
   "metadata": {},
   "source": [
    "# members"
   ]
  },
  {
   "cell_type": "markdown",
   "metadata": {},
   "source": [
    "https://en.wikipedia.org/wiki/Specials_(Unicode_block)\n",
    "\n",
    "hay un problema y tenemso que eliminar los caracteres specials desde vscode replace � with ''"
   ]
  },
  {
   "cell_type": "code",
   "execution_count": null,
   "metadata": {},
   "outputs": [],
   "source": [
    "cursor.execute(\"\"\"\n",
    "load data infile \"\"\"+path+\"\"\"members.csv\" \n",
    "into table meetup.members\n",
    "fields\n",
    "terminated by ','\n",
    "enclosed by '\"'\n",
    "lines\n",
    "terminated by '\\n'\n",
    "ignore 1 lines\n",
    ";\n",
    "\"\"\")"
   ]
  },
  {
   "cell_type": "markdown",
   "metadata": {},
   "source": [
    "Es probable que tenga que cargarla desde dbeaver, pq desde acá me deja la tabla vacía."
   ]
  },
  {
   "cell_type": "markdown",
   "metadata": {},
   "source": [
    "# members_topics"
   ]
  },
  {
   "cell_type": "code",
   "execution_count": null,
   "metadata": {},
   "outputs": [],
   "source": [
    "cursor.execute(\"\"\"\n",
    "load data infile \"\"\"+path+\"\"\"members_topics.csv\" \n",
    "into table meetup.members_topics\n",
    "fields\n",
    "terminated by ','\n",
    "enclosed by '\"'\n",
    "lines\n",
    "terminated by '\\n'\n",
    "ignore 1 lines\n",
    ";\n",
    "\"\"\")"
   ]
  },
  {
   "cell_type": "code",
   "execution_count": null,
   "metadata": {},
   "outputs": [],
   "source": [
    "pd.read_sql(\"select * from information_schema.tables where `TABLE_SCHEMA`='meetup';\",con)"
   ]
  }
 ],
 "metadata": {
  "kernelspec": {
   "display_name": "Python 3",
   "language": "python",
   "name": "python3"
  },
  "language_info": {
   "codemirror_mode": {
    "name": "ipython",
    "version": 3
   },
   "file_extension": ".py",
   "mimetype": "text/x-python",
   "name": "python",
   "nbconvert_exporter": "python",
   "pygments_lexer": "ipython3",
   "version": "3.7.3"
  }
 },
 "nbformat": 4,
 "nbformat_minor": 4
}
